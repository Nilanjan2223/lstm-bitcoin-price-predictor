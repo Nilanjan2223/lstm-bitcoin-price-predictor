{
 "cells": [
  {
   "cell_type": "code",
   "id": "initial_id",
   "metadata": {
    "collapsed": true,
    "ExecuteTime": {
     "end_time": "2025-08-03T04:31:37.392513Z",
     "start_time": "2025-08-03T04:31:35.497919Z"
    }
   },
   "source": [
    "import pandas as pd\n",
    "import numpy as np\n",
    "import matplotlib.pyplot as plt\n",
    "from sklearn.preprocessing import MinMaxScaler"
   ],
   "outputs": [],
   "execution_count": 1
  },
  {
   "metadata": {
    "ExecuteTime": {
     "end_time": "2025-08-03T04:38:42.545317Z",
     "start_time": "2025-08-03T04:38:42.526721Z"
    }
   },
   "cell_type": "code",
   "source": "df = pd.read_csv('/Dashboard\\\\crypto_raw_data.csv', parse_dates=['timestamp'])",
   "id": "1fb699c06703632f",
   "outputs": [],
   "execution_count": 4
  },
  {
   "metadata": {
    "ExecuteTime": {
     "end_time": "2025-08-03T04:44:34.939921Z",
     "start_time": "2025-08-03T04:44:34.865992Z"
    }
   },
   "cell_type": "code",
   "source": [
    "# We change the timestamp as the index for the dataset\n",
    "# We sort the data with the index value\n",
    "# Display the five rows from the dataset\n",
    "df.set_index('timestamp', inplace=True)\n",
    "df = df.sort_index()\n",
    "df.head()"
   ],
   "id": "63d303ca2d83705a",
   "outputs": [
    {
     "data": {
      "text/plain": [
       "                         coin_id  current_price     market_cap  total_volume\n",
       "timestamp                                                                   \n",
       "2025-08-02 11:42:18.330  bitcoin       113843.0  2267457749217   56442387506\n",
       "2025-08-02 11:43:18.833  bitcoin       113805.0  2267457749217   56432916746\n",
       "2025-08-02 11:44:19.313  bitcoin       113805.0  2267457749217   56433419211\n",
       "2025-08-02 11:45:19.833  bitcoin       113809.0  2267457749217   56414098972\n",
       "2025-08-02 11:46:20.350  bitcoin       113825.0  2267457749217   53078566909"
      ],
      "text/html": [
       "<div>\n",
       "<style scoped>\n",
       "    .dataframe tbody tr th:only-of-type {\n",
       "        vertical-align: middle;\n",
       "    }\n",
       "\n",
       "    .dataframe tbody tr th {\n",
       "        vertical-align: top;\n",
       "    }\n",
       "\n",
       "    .dataframe thead th {\n",
       "        text-align: right;\n",
       "    }\n",
       "</style>\n",
       "<table border=\"1\" class=\"dataframe\">\n",
       "  <thead>\n",
       "    <tr style=\"text-align: right;\">\n",
       "      <th></th>\n",
       "      <th>coin_id</th>\n",
       "      <th>current_price</th>\n",
       "      <th>market_cap</th>\n",
       "      <th>total_volume</th>\n",
       "    </tr>\n",
       "    <tr>\n",
       "      <th>timestamp</th>\n",
       "      <th></th>\n",
       "      <th></th>\n",
       "      <th></th>\n",
       "      <th></th>\n",
       "    </tr>\n",
       "  </thead>\n",
       "  <tbody>\n",
       "    <tr>\n",
       "      <th>2025-08-02 11:42:18.330</th>\n",
       "      <td>bitcoin</td>\n",
       "      <td>113843.0</td>\n",
       "      <td>2267457749217</td>\n",
       "      <td>56442387506</td>\n",
       "    </tr>\n",
       "    <tr>\n",
       "      <th>2025-08-02 11:43:18.833</th>\n",
       "      <td>bitcoin</td>\n",
       "      <td>113805.0</td>\n",
       "      <td>2267457749217</td>\n",
       "      <td>56432916746</td>\n",
       "    </tr>\n",
       "    <tr>\n",
       "      <th>2025-08-02 11:44:19.313</th>\n",
       "      <td>bitcoin</td>\n",
       "      <td>113805.0</td>\n",
       "      <td>2267457749217</td>\n",
       "      <td>56433419211</td>\n",
       "    </tr>\n",
       "    <tr>\n",
       "      <th>2025-08-02 11:45:19.833</th>\n",
       "      <td>bitcoin</td>\n",
       "      <td>113809.0</td>\n",
       "      <td>2267457749217</td>\n",
       "      <td>56414098972</td>\n",
       "    </tr>\n",
       "    <tr>\n",
       "      <th>2025-08-02 11:46:20.350</th>\n",
       "      <td>bitcoin</td>\n",
       "      <td>113825.0</td>\n",
       "      <td>2267457749217</td>\n",
       "      <td>53078566909</td>\n",
       "    </tr>\n",
       "  </tbody>\n",
       "</table>\n",
       "</div>"
      ]
     },
     "execution_count": 5,
     "metadata": {},
     "output_type": "execute_result"
    }
   ],
   "execution_count": 5
  },
  {
   "metadata": {
    "ExecuteTime": {
     "end_time": "2025-08-03T04:55:13.007651Z",
     "start_time": "2025-08-03T04:55:12.979288Z"
    }
   },
   "cell_type": "code",
   "source": [
    "#we resampled the data and then took the mean of the data\n",
    "resampled_df = df.select_dtypes(include='number').resample('1min').mean().dropna()\n",
    "print(resampled_df.head())"
   ],
   "id": "be7e46377785c499",
   "outputs": [
    {
     "name": "stdout",
     "output_type": "stream",
     "text": [
      "                     current_price    market_cap  total_volume\n",
      "timestamp                                                     \n",
      "2025-08-02 11:42:00       113843.0  2.267458e+12  5.644239e+10\n",
      "2025-08-02 11:43:00       113805.0  2.267458e+12  5.643292e+10\n",
      "2025-08-02 11:44:00       113805.0  2.267458e+12  5.643342e+10\n",
      "2025-08-02 11:45:00       113809.0  2.267458e+12  5.641410e+10\n",
      "2025-08-02 11:46:00       113825.0  2.267458e+12  5.307857e+10\n"
     ]
    }
   ],
   "execution_count": 9
  },
  {
   "metadata": {
    "ExecuteTime": {
     "end_time": "2025-08-04T18:06:17.060194Z",
     "start_time": "2025-08-04T18:06:16.871752Z"
    }
   },
   "cell_type": "code",
   "source": "df.info",
   "id": "b5ff86745d564676",
   "outputs": [
    {
     "data": {
      "text/plain": [
       "<bound method DataFrame.info of                          coin_id  current_price     market_cap  total_volume\n",
       "timestamp                                                                   \n",
       "2025-08-02 11:42:18.330  bitcoin       113843.0  2267457749217   56442387506\n",
       "2025-08-02 11:43:18.833  bitcoin       113805.0  2267457749217   56432916746\n",
       "2025-08-02 11:44:19.313  bitcoin       113805.0  2267457749217   56433419211\n",
       "2025-08-02 11:45:19.833  bitcoin       113809.0  2267457749217   56414098972\n",
       "2025-08-02 11:46:20.350  bitcoin       113825.0  2267457749217   53078566909\n",
       "...                          ...            ...            ...           ...\n",
       "2025-08-02 13:39:40.660  bitcoin       113931.0  2267295381365   53502273441\n",
       "2025-08-02 13:40:42.247  bitcoin       113929.0  2267295381365   53601264835\n",
       "2025-08-02 13:41:42.803  bitcoin       113928.0  2267295381365   53447270986\n",
       "2025-08-02 13:42:43.363  bitcoin       113930.0  2267295381365   53362553276\n",
       "2025-08-02 13:43:43.877  bitcoin       113927.0  2267295381365   53060363248\n",
       "\n",
       "[121 rows x 4 columns]>"
      ]
     },
     "execution_count": 13,
     "metadata": {},
     "output_type": "execute_result"
    }
   ],
   "execution_count": 13
  },
  {
   "metadata": {
    "ExecuteTime": {
     "end_time": "2025-08-04T18:06:41.870118Z",
     "start_time": "2025-08-04T18:06:41.761065Z"
    }
   },
   "cell_type": "code",
   "source": "df.describe()",
   "id": "b1f554246a30a1d8",
   "outputs": [
    {
     "data": {
      "text/plain": [
       "       current_price    market_cap  total_volume\n",
       "count     121.000000  1.210000e+02  1.210000e+02\n",
       "mean   113739.603306  2.263577e+12  5.457943e+10\n",
       "std       147.886695  3.002991e+09  1.408721e+09\n",
       "min    113499.000000  2.258825e+12  5.220775e+10\n",
       "25%    113620.000000  2.261169e+12  5.336255e+10\n",
       "50%    113707.000000  2.262303e+12  5.469275e+10\n",
       "75%    113872.000000  2.266224e+12  5.587008e+10\n",
       "max    113963.000000  2.267948e+12  5.659500e+10"
      ],
      "text/html": [
       "<div>\n",
       "<style scoped>\n",
       "    .dataframe tbody tr th:only-of-type {\n",
       "        vertical-align: middle;\n",
       "    }\n",
       "\n",
       "    .dataframe tbody tr th {\n",
       "        vertical-align: top;\n",
       "    }\n",
       "\n",
       "    .dataframe thead th {\n",
       "        text-align: right;\n",
       "    }\n",
       "</style>\n",
       "<table border=\"1\" class=\"dataframe\">\n",
       "  <thead>\n",
       "    <tr style=\"text-align: right;\">\n",
       "      <th></th>\n",
       "      <th>current_price</th>\n",
       "      <th>market_cap</th>\n",
       "      <th>total_volume</th>\n",
       "    </tr>\n",
       "  </thead>\n",
       "  <tbody>\n",
       "    <tr>\n",
       "      <th>count</th>\n",
       "      <td>121.000000</td>\n",
       "      <td>1.210000e+02</td>\n",
       "      <td>1.210000e+02</td>\n",
       "    </tr>\n",
       "    <tr>\n",
       "      <th>mean</th>\n",
       "      <td>113739.603306</td>\n",
       "      <td>2.263577e+12</td>\n",
       "      <td>5.457943e+10</td>\n",
       "    </tr>\n",
       "    <tr>\n",
       "      <th>std</th>\n",
       "      <td>147.886695</td>\n",
       "      <td>3.002991e+09</td>\n",
       "      <td>1.408721e+09</td>\n",
       "    </tr>\n",
       "    <tr>\n",
       "      <th>min</th>\n",
       "      <td>113499.000000</td>\n",
       "      <td>2.258825e+12</td>\n",
       "      <td>5.220775e+10</td>\n",
       "    </tr>\n",
       "    <tr>\n",
       "      <th>25%</th>\n",
       "      <td>113620.000000</td>\n",
       "      <td>2.261169e+12</td>\n",
       "      <td>5.336255e+10</td>\n",
       "    </tr>\n",
       "    <tr>\n",
       "      <th>50%</th>\n",
       "      <td>113707.000000</td>\n",
       "      <td>2.262303e+12</td>\n",
       "      <td>5.469275e+10</td>\n",
       "    </tr>\n",
       "    <tr>\n",
       "      <th>75%</th>\n",
       "      <td>113872.000000</td>\n",
       "      <td>2.266224e+12</td>\n",
       "      <td>5.587008e+10</td>\n",
       "    </tr>\n",
       "    <tr>\n",
       "      <th>max</th>\n",
       "      <td>113963.000000</td>\n",
       "      <td>2.267948e+12</td>\n",
       "      <td>5.659500e+10</td>\n",
       "    </tr>\n",
       "  </tbody>\n",
       "</table>\n",
       "</div>"
      ]
     },
     "execution_count": 14,
     "metadata": {},
     "output_type": "execute_result"
    }
   ],
   "execution_count": 14
  },
  {
   "metadata": {
    "ExecuteTime": {
     "end_time": "2025-08-04T18:08:38.766565Z",
     "start_time": "2025-08-04T18:08:38.750513Z"
    }
   },
   "cell_type": "code",
   "source": "df.dtypes",
   "id": "6725edd146852d77",
   "outputs": [
    {
     "data": {
      "text/plain": [
       "coin_id           object\n",
       "current_price    float64\n",
       "market_cap         int64\n",
       "total_volume       int64\n",
       "dtype: object"
      ]
     },
     "execution_count": 15,
     "metadata": {},
     "output_type": "execute_result"
    }
   ],
   "execution_count": 15
  },
  {
   "metadata": {
    "ExecuteTime": {
     "end_time": "2025-08-03T04:56:38.724742Z",
     "start_time": "2025-08-03T04:56:38.376227Z"
    }
   },
   "cell_type": "code",
   "source": [
    "#Plot for quick EDA\n",
    "plt.figure(figsize=(12, 4))\n",
    "plt.plot(resampled_df['current_price'], label='Current Price')\n",
    "plt.title('Bitcoin Price Trend')\n",
    "plt.legend()\n",
    "plt.show()\n"
   ],
   "id": "164a7ec623506e4b",
   "outputs": [
    {
     "data": {
      "text/plain": [
       "<Figure size 1200x400 with 1 Axes>"
      ],
      "image/png": "[encoded data removed]"
     },
     "metadata": {},
     "output_type": "display_data"
    }
   ],
   "execution_count": 10
  },
  {
   "metadata": {
    "ExecuteTime": {
     "end_time": "2025-08-03T05:00:15.577843Z",
     "start_time": "2025-08-03T05:00:15.566449Z"
    }
   },
   "cell_type": "code",
   "source": [
    "scaler = MinMaxScaler()\n",
    "scaled_df = scaler.fit_transform(resampled_df)"
   ],
   "id": "195e247c8e10cd3c",
   "outputs": [],
   "execution_count": 11
  }
 ],
 "metadata": {
  "kernelspec": {
   "display_name": "Python 3",
   "language": "python",
   "name": "python3"
  },
  "language_info": {
   "codemirror_mode": {
    "name": "ipython",
    "version": 2
   },
   "file_extension": ".py",
   "mimetype": "text/x-python",
   "name": "python",
   "nbconvert_exporter": "python",
   "pygments_lexer": "ipython2",
   "version": "2.7.6"
  }
 },
 "nbformat": 4,
 "nbformat_minor": 5
}
